{
  "nbformat": 4,
  "nbformat_minor": 0,
  "metadata": {
    "colab": {
      "provenance": [],
      "authorship_tag": "ABX9TyOF33jPjaHqACqD1oVSfnQT",
      "include_colab_link": true
    },
    "kernelspec": {
      "name": "python3",
      "display_name": "Python 3"
    },
    "language_info": {
      "name": "python"
    }
  },
  "cells": [
    {
      "cell_type": "markdown",
      "metadata": {
        "id": "view-in-github",
        "colab_type": "text"
      },
      "source": [
        "<a href=\"https://colab.research.google.com/github/saminaiq/zoom-_classes_python/blob/main/project1_Mad_libs_python_project_ipynb.ipynb\" target=\"_parent\"><img src=\"https://colab.research.google.com/assets/colab-badge.svg\" alt=\"Open In Colab\"/></a>"
      ]
    },
    {
      "cell_type": "code",
      "source": [
        "def Madlibs():\n",
        "    name = input(\"Enter your name: \")\n",
        "    city = input(\"Enter a city name: \")\n",
        "    verb = input(\"Enter a verb: \")\n",
        "    animal = input(\"Please enter an animal name: \")\n",
        "    adjective = input(\"Enter an adjective: \")\n",
        "\n",
        "    story = f\"Ek din, {name} {city} gaya. Wahan usne ek {adjective} {animal} dekha jo {verb} raha tha. Ye dekh kar, {name} bohot hairan hua!\"\n",
        "\n",
        "    print(story)\n",
        "\n",
        "# Call the function to play the game\n",
        "Madlibs()\n"
      ],
      "metadata": {
        "colab": {
          "base_uri": "https://localhost:8080/"
        },
        "id": "reTkftzQoRId",
        "outputId": "a579cc79-ab58-42b8-ab59-99ad87394666"
      },
      "execution_count": null,
      "outputs": [
        {
          "output_type": "stream",
          "name": "stdout",
          "text": [
            "Enter your name: Samina\n",
            "Enter a city name: Karachi\n",
            "Enter a verb: Nach\n",
            "Please enter an animal name: Bandar\n",
            "Enter an adjective: Ajeeb\n",
            "Ek din, Samina Karachi gaya. Wahan usne ek Ajeeb Bandar dekha jo Nach raha tha. Ye dekh kar, Samina bohot hairan hua!\n"
          ]
        }
      ]
    },
    {
      "cell_type": "code",
      "source": [
        "\n",
        "def Calculator(first_number, second_number, operation):\n",
        "    if operation == \"+\":\n",
        "        print(first_number + second_number)\n",
        "    elif operation == \"-\":\n",
        "        print(first_number- second_number)\n",
        "    elif operation == \"/\":\n",
        "        print(first_number/ second_number)\n",
        "    elif operation == \"*\":\n",
        "        print(first_number* second_number)\n",
        "first = input(\"Enter a first number\")\n",
        "second = input(\"Enter a second number\")\n",
        "operation = input(\"Enter a operater\")\n",
        "Calculator(first,second,operation)\n",
        "\n",
        "\n"
      ],
      "metadata": {
        "colab": {
          "base_uri": "https://localhost:8080/"
        },
        "id": "rrtmFciqHTWM",
        "outputId": "f2316b29-ce88-4249-db62-6f864b6a81ae"
      },
      "execution_count": null,
      "outputs": [
        {
          "output_type": "stream",
          "name": "stdout",
          "text": [
            "Enter a first number10\n",
            "Enter a second number10\n",
            "Enter a operater+\n",
            "1010\n"
          ]
        }
      ]
    },
    {
      "cell_type": "code",
      "source": [
        "from google.colab import drive\n",
        "drive.mount('/content/drive')"
      ],
      "metadata": {
        "id": "CYbb3DKzUv7k"
      },
      "execution_count": null,
      "outputs": []
    }
  ]
}